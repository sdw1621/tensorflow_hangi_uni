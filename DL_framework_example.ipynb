{
  "nbformat": 4,
  "nbformat_minor": 0,
  "metadata": {
    "colab": {
      "name": "DL_framework_example",
      "provenance": [],
      "collapsed_sections": [],
      "include_colab_link": true
    },
    "kernelspec": {
      "name": "python3",
      "display_name": "Python 3"
    }
  },
  "cells": [
    {
      "cell_type": "markdown",
      "metadata": {
        "id": "view-in-github",
        "colab_type": "text"
      },
      "source": [
        "<a href=\"https://colab.research.google.com/github/sdw1621/tensorflow_hangi_uni/blob/main/DL_framework_example.ipynb\" target=\"_parent\"><img src=\"https://colab.research.google.com/assets/colab-badge.svg\" alt=\"Open In Colab\"/></a>"
      ]
    },
    {
      "cell_type": "code",
      "metadata": {
        "id": "PnZAZszNMcrM",
        "outputId": "23b9e904-faed-435b-e5d0-18b9517b88a4",
        "colab": {
          "base_uri": "https://localhost:8080/",
          "height": 265
        }
      },
      "source": [
        "import numpy as np\n",
        "import matplotlib.pyplot as plt\n",
        " \n",
        "# dataset generation\n",
        "data = np.zeros((100,2))\n",
        " \n",
        "for i in range(len(data)):\n",
        "  data[i][0] = 10*np.random.randn(1)\n",
        "  data[i][1] = 5*data[i,0] + 2 + 10*np.random.randn(1)\n",
        " \n",
        "plt.scatter(data[:,0], data[:,1])\n",
        "plt.show()"
      ],
      "execution_count": null,
      "outputs": [
        {
          "output_type": "display_data",
          "data": {
            "image/png": "[encoded data removed]",
            "text/plain": [
              "<Figure size 432x288 with 1 Axes>"
            ]
          },
          "metadata": {
            "needs_background": "light"
          }
        }
      ]
    },
    {
      "cell_type": "code",
      "metadata": {
        "id": "NXQXZCTG9AqA",
        "outputId": "fa4087e2-74ed-47ee-c890-acd3ed27b061",
        "colab": {
          "base_uri": "https://localhost:8080/",
          "height": 464
        }
      },
      "source": [
        "# y = 5x + 2 --> y = wx + b : find w and b\n",
        "# error = true - pred\n",
        "# MSE loss = (true - pred)**2\n",
        "def loss_function (w,b):\n",
        "  return sum((y-w*x-b)**2 for x, y in data)/len(data)\n",
        " \n",
        "def w_grad_loss(w,b):\n",
        "  return sum(2*(y-w*x-b)*(-x) for x,y in data )/len(data)\n",
        " \n",
        "def b_grad_loss(w,b):\n",
        "  return sum(2*(y-w*x-b)*(-1) for x,y in data )/len(data)\n",
        " \n",
        "# initial parameters\n",
        "w = 20.00001\n",
        "b = 20.00001\n",
        " \n",
        "# learning rate\n",
        "lr= 0.01 \n",
        " \n",
        "fig = plt.figure()\n",
        "for i in range(1000+1):\n",
        "  w = w - lr*w_grad_loss(w,b)\n",
        "  b = b - lr*b_grad_loss(w,b)\n",
        "  if i%100 == 0:\n",
        "    print('iteration:', i, 'loss=', loss_function(w,b), 'w=', w, 'b=', b)\n",
        " \n",
        "# plot result\n",
        "x_coor = []\n",
        "y_coor = []\n",
        "iter=0\n",
        "for i in range(-30,30,1):\n",
        "  x_coor.append (i)\n",
        "  y_coor.append (w*x_coor[iter] + b)\n",
        "  iter+=1\n",
        " \n",
        "plt.plot(x_coor, y_coor, 'r')\n",
        "plt.scatter(data[:,0], data[:,1])\n",
        "plt.show()"
      ],
      "execution_count": null,
      "outputs": [
        {
          "output_type": "stream",
          "name": "stdout",
          "text": [
            "iteration: 0 loss= 18264.377720973065 w= -8.827057290168092 b= 19.884516949830513\n",
            "iteration: 100 loss= 86.15638495730687 w= 5.015077463995294 b= 4.098347399434175\n",
            "iteration: 200 loss= 80.34176558641043 w= 5.036012983909575 b= 1.9840244397489553\n",
            "iteration: 300 loss= 80.23586884905892 w= 5.038758009448568 b= 1.6986900357385202\n",
            "iteration: 400 loss= 80.23394021277456 w= 5.039128456527535 b= 1.6601831836720506\n",
            "iteration: 500 loss= 80.23390508763259 w= 5.0391784496255845 b= 1.654986552503858\n",
            "iteration: 600 loss= 80.23390444791868 w= 5.039185196364866 b= 1.6542852493837896\n",
            "iteration: 700 loss= 80.23390443626789 w= 5.039186106860371 b= 1.6541906061331337\n",
            "iteration: 800 loss= 80.2339044360557 w= 5.039186229734847 b= 1.6541778337032973\n",
            "iteration: 900 loss= 80.23390443605183 w= 5.039186246317178 b= 1.6541761100202799\n",
            "iteration: 1000 loss= 80.2339044360518 w= 5.03918624855502 b= 1.6541758774033706\n"
          ]
        },
        {
          "output_type": "display_data",
          "data": {
            "image/png": "[encoded data removed]",
            "text/plain": [
              "<Figure size 432x288 with 1 Axes>"
            ]
          },
          "metadata": {
            "needs_background": "light"
          }
        }
      ]
    },
    {
      "cell_type": "code",
      "metadata": {
        "id": "-fMZbLm20nJK",
        "outputId": "cf1deb27-2729-4dad-da2d-50b65f4bb9b8",
        "colab": {
          "base_uri": "https://localhost:8080/",
          "height": 342
        }
      },
      "source": [
        "# y = 5x + 2 --> y = ax + c : find a and c\n",
        "# error = true - pred\n",
        "# MSE loss = (true - pred)**2\n",
        " \n",
        "def loss_function (w,b):\n",
        "  return sum((y-w*x-b)**2 for x, y in data)/len(data)\n",
        " \n",
        "def grad_loss(w,b, w_h, b_h):\n",
        "  return  (loss_function(w+w_h,b+b_h) - loss_function(w,b))/h \n",
        "  \n",
        "w = 20.00001\n",
        "b = 20.00001\n",
        "lr= 0.01 # learning rate\n",
        "h = 0.001\n",
        " \n",
        "plt.figure(figsize=(20,2))\n",
        "plt_cnt=1\n",
        "\n",
        "for i in range(100+1):\n",
        "  w = w - lr*grad_loss(w, b, h, 0)\n",
        "  b = b - lr*grad_loss(w, b, 0, h)\n",
        "  \n",
        "  # 100회 반복마다 손실값 및 w, b 출력\n",
        "  if i%10 == 0:\n",
        "    print('iteration:', i, 'loss=', loss_function(w,b), 'w=', w, 'b=', b)\n",
        "    iter=0\n",
        "    x_coor = []\n",
        "    y_coor = []\n",
        "    plt.subplot(1,11,plt_cnt)\n",
        "    for j in range(-30,30,1):\n",
        "      x_coor.append (j)\n",
        "      y_coor.append (w*x_coor[iter] + b)\n",
        "      iter+=1 \n",
        "    plt.plot(x_coor, y_coor, 'r')\n",
        "    plt.scatter(data[:,0], data[:,1])\n",
        "    plt_cnt+=1\n",
        "\n",
        "x_coor = []\n",
        "y_coor = []\n",
        "iter=0\n",
        "for i in range(-30,30,1):\n",
        "  x_coor.append (i)\n",
        "  y_coor.append (w*x_coor[iter] + b)\n",
        "  iter+=1 \n",
        " \n",
        "plt.plot(x_coor, y_coor, 'r')\n",
        "plt.scatter(data[:,0], data[:,1], cmap='b')\n",
        "plt.show()\n"
      ],
      "execution_count": null,
      "outputs": [
        {
          "output_type": "stream",
          "name": "stdout",
          "text": [
            "iteration: 0 loss= 18266.861407693243 w= -8.828009591310295 b= 19.88452421697391\n",
            "iteration: 10 loss= 2696.259953158103 w= -0.11926955514238458 b= 16.521811797139232\n",
            "iteration: 20 loss= 548.4918282322865 w= 3.084913087931252 b= 13.803581581199776\n",
            "iteration: 30 loss= 221.42852936786483 w= 4.270262664989584 b= 11.59121957895567\n",
            "iteration: 40 loss= 151.6190835644908 w= 4.714019236179777 b= 9.784983976828723\n",
            "iteration: 50 loss= 124.92475471267782 w= 4.884402428448194 b= 8.30825926570898\n",
            "iteration: 60 loss= 109.74763076583179 w= 4.953229735094336 b= 7.100175584468811\n",
            "iteration: 70 loss= 99.94715185711325 w= 4.983693674430068 b= 6.111584910184316\n",
            "iteration: 80 loss= 93.43201616768285 w= 4.999152166123675 b= 5.30250646201554\n",
            "iteration: 90 loss= 89.0744774793925 w= 5.008333932485154 b= 4.640306410081958\n",
            "iteration: 100 loss= 86.15629346878403 w= 5.014577827300169 b= 4.098307101211727\n"
          ]
        },
        {
          "output_type": "display_data",
          "data": {
            "image/png": "[encoded data removed]",
            "text/plain": [
              "<Figure size 1440x144 with 11 Axes>"
            ]
          },
          "metadata": {
            "needs_background": "light"
          }
        }
      ]
    },
    {
      "cell_type": "code",
      "metadata": {
        "id": "XnkcEiytHjz0",
        "outputId": "020af7a7-2c3e-4eb7-8455-97845771e714",
        "colab": {
          "base_uri": "https://localhost:8080/",
          "height": 1000
        }
      },
      "source": [
        "import tensorflow as tf\n",
        " \n",
        "# linear regression model 설계\n",
        "class LinearModel:\n",
        "    \n",
        "    def __init__(self):\n",
        "        self.w = tf.Variable(20.0)\n",
        "        self.b = tf.Variable(20.0)\n",
        "\n",
        "    def __call__(self, x):\n",
        "        return self.w* x + self.b\n",
        "\n",
        "x = data[:,0]\n",
        "y = data[:,1]\n",
        "\n",
        "print(x,y)\n",
        "\n",
        "# 손실함수 정의: MSE\n",
        "def loss(y, pred):\n",
        "    return tf.reduce_mean(tf.square(y - pred))\n",
        " \n",
        "# 학습모델 정의\n",
        "def train(linear_model, x, y, lr=0.01):\n",
        "    with tf.GradientTape() as t:\n",
        "        current_loss = loss(y, linear_model(x))\n",
        "\n",
        "    grad_w, grad_b = t.gradient(current_loss, [linear_model.w, linear_model.b])\n",
        "    linear_model.w.assign_sub(lr * grad_w)\n",
        "    linear_model.b.assign_sub(lr * grad_b)\n",
        "\n",
        "# linear gression 모델 선언\n",
        "linear_model = LinearModel()\n",
        "\n",
        "for i in range(1000+1):\n",
        "    w=linear_model.w.numpy() \n",
        "    b=linear_model.b.numpy()\n",
        "    real_loss = loss(y, linear_model(x))\n",
        "    train(linear_model, x, y, lr=0.01)\n",
        "  \n",
        "    # 100회 반복마다 손실값 및 w, b 출력\n",
        "    if i%100 == 0:\n",
        "        print('iteration: ', i, 'loss=', real_loss, 'w=', w, 'b=', b)\n",
        " \n",
        "# 결과 출력\n",
        "x_coor = []\n",
        "y_coor = []\n",
        "iter=0\n",
        "\n",
        "for i in range(-30,30):\n",
        "  x_coor.append (i)\n",
        "  y_coor.append (w*x_coor[iter] + b) \n",
        "  iter+=1\n",
        " \n",
        "plt.plot(x_coor, y_coor, 'r')\n",
        "plt.scatter(data[:,0], data[:,1])\n",
        "plt.show()"
      ],
      "execution_count": null,
      "outputs": [
        {
          "output_type": "stream",
          "name": "stdout",
          "text": [
            "[  5.75402572  17.04068321  -6.88922255   1.68510832   8.50612896\n",
            "   7.46474202   7.14606172   5.17008161   3.19037058  -7.20561641\n",
            " -10.06200673  11.49422783   5.4057819    3.88284056  -5.88412103\n",
            " -11.79940192  -4.16055473 -11.01202637   9.03826467  -5.84529808\n",
            "  -9.75287491   8.53716833  17.19817079   9.41984386   0.09373016\n",
            "   3.38549037   2.94873747  -5.63041639  -8.41003792   8.38587753\n",
            "  -4.12135404  -7.46070052  10.23645078   0.60446349  -8.18602967\n",
            " -19.60160315  -4.61262595  -4.16431432   3.38773589  22.30454586\n",
            "  -8.89092451  -3.53361294   9.90738958  -2.50560456  11.12276581\n",
            "   2.94954225   9.23677589  -7.72242184  -0.59917678   7.05309125\n",
            "  -6.59873204   1.87266867   3.98682816  -6.21275824   0.81561371\n",
            "  19.46649628   9.77042488  -9.39460604  -1.55023468   1.05749614\n",
            "  -6.90496356  -6.32231055  -1.27041556  -2.48144426   8.13405275\n",
            " -12.61093147 -20.80101158  10.27844043  -4.78580715  -8.95365948\n",
            " -23.41997079   5.39499043  -9.22859587   0.72906659   4.50510915\n",
            "  -0.26566123 -13.41370529  -1.63690587  -5.33488808   8.61160433\n",
            "  -1.38505634 -10.51236914  -9.57179253   3.55845702  -1.20911587\n",
            "   8.05045929   7.87799872 -18.90805081 -14.86347985   1.51290819\n",
            " -15.27688221 -10.23567839  -4.77982123  -4.74338881  14.18580176\n",
            "  16.52357866  10.01167023   6.4775427    5.01858302  -1.49253034] [  28.59158597   84.13309096  -30.66869396   17.01700036   47.41132593\n",
            "   24.66066359   27.24752684   26.35794421   23.37095452  -40.86716853\n",
            "  -40.69233254   53.05587289   25.23897469   24.40461987  -37.91695511\n",
            "  -53.84429487  -23.64736735  -54.82854853   54.88354858  -24.00341286\n",
            "  -37.65254012   45.039336     98.60864089   46.28220454    5.23361095\n",
            "   27.94846515   15.84245575  -18.24640358  -38.51877634   45.0203386\n",
            "  -12.10404562  -29.43904126   34.84462736   13.39703922  -33.85875702\n",
            " -107.79328913  -33.33186113  -14.99007789   19.48146231  116.05798707\n",
            "  -41.98784222  -19.4737176    45.95852364   -9.03568056   51.7614057\n",
            "   24.45281482   54.3575401   -48.56864548   11.04240997   41.77416416\n",
            "  -42.34607496   13.06354733   35.02143217  -19.83784885    6.80567678\n",
            "  110.49922322   51.38534027  -58.18837517  -18.49532673   17.77476049\n",
            "  -35.11316363  -31.08463703  -17.66898818    5.86080589   47.19620068\n",
            "  -73.16194569 -110.06051115   36.65177741  -36.6276515   -56.05623967\n",
            " -120.07255135   21.35914602  -64.52553843    5.73848773   18.97251046\n",
            "    8.11021767  -62.61116693   -9.34354301  -14.96308954   51.26912613\n",
            "   -4.33930395  -77.16214875  -53.83952634   24.65488929   -8.33319335\n",
            "   46.78539453   44.04455852  -96.16119213  -78.26475705   -1.27434131\n",
            "  -76.56834614  -40.24306108  -16.4185651   -14.73851316   70.29517637\n",
            "   82.8490136    47.18333444   45.56720668   32.83050229    3.95453955]\n",
            "iteration:  0 loss= tf.Tensor(18596.676, shape=(), dtype=float32) w= 20.0 b= 20.0\n",
            "iteration:  100 loss= tf.Tensor(73.12327, shape=(), dtype=float32) w= 5.177985 b= 3.8532922\n",
            "iteration:  200 loss= tf.Tensor(67.06622, shape=(), dtype=float32) w= 5.1696706 b= 1.6989741\n",
            "iteration:  300 loss= tf.Tensor(66.95915, shape=(), dtype=float32) w= 5.1685653 b= 1.4125518\n",
            "iteration:  400 loss= tf.Tensor(66.95727, shape=(), dtype=float32) w= 5.1684184 b= 1.3744717\n",
            "iteration:  500 loss= tf.Tensor(66.95723, shape=(), dtype=float32) w= 5.168399 b= 1.3694084\n",
            "iteration:  600 loss= tf.Tensor(66.95723, shape=(), dtype=float32) w= 5.168396 b= 1.3687354\n",
            "iteration:  700 loss= tf.Tensor(66.957214, shape=(), dtype=float32) w= 5.1683955 b= 1.3686464\n",
            "iteration:  800 loss= tf.Tensor(66.95722, shape=(), dtype=float32) w= 5.1683955 b= 1.368635\n",
            "iteration:  900 loss= tf.Tensor(66.95722, shape=(), dtype=float32) w= 5.1683955 b= 1.368635\n",
            "iteration:  1000 loss= tf.Tensor(66.95722, shape=(), dtype=float32) w= 5.1683955 b= 1.368635\n"
          ]
        },
        {
          "output_type": "display_data",
          "data": {
            "image/png": "[encoded data removed]",
            "text/plain": [
              "<Figure size 432x288 with 1 Axes>"
            ]
          },
          "metadata": {
            "needs_background": "light"
          }
        }
      ]
    },
    {
      "cell_type": "code",
      "source": [
        "import tensorflow as tf\n",
        "\n",
        "# KERAS를 이용한 linear regression model 설계\n",
        "model = tf.keras.Sequential()  \n",
        "model.add(tf.keras.layers.Dense(1, activation='linear'))\n",
        "\n",
        "# 학습 기준 확정\n",
        "optimizer = tf.keras.optimizers.SGD(learning_rate=0.01)\n",
        "model.compile(optimizer=optimizer, loss='mse', metrics=['mse'])\n",
        "\n",
        "# 학습 데이터 텐서 포맷으로 변환\n",
        "train_x = tf.expand_dims(data[:,0], axis=1)\n",
        "train_y = tf.expand_dims(data[:,1], axis=1)\n",
        "\n",
        "# 학습 반복회수 설정\n",
        "epochs = 1000\n",
        "num_batch = 100\n",
        "\n",
        "# 모델 학습\n",
        "model.fit(train_x, train_y, epochs=epochs, batch_size=num_batch, verbose=0)\n",
        "\n",
        "# 학습변수 출력\n",
        "print(model.weights)\n",
        " \n",
        "# 결과 출력 \n",
        "plt.plot(train_x, model.predict(train_x), 'r')\n",
        "plt.scatter(data[:,0], data[:,1])\n",
        "plt.show()"
      ],
      "metadata": {
        "colab": {
          "base_uri": "https://localhost:8080/",
          "height": 303
        },
        "id": "lJGEXvtHH_YQ",
        "outputId": "8957c2cb-c12d-4306-9815-7a3345e5023e"
      },
      "execution_count": null,
      "outputs": [
        {
          "output_type": "stream",
          "name": "stdout",
          "text": [
            "[<tf.Variable 'dense_17/kernel:0' shape=(1, 1) dtype=float32, numpy=array([[5.1683955]], dtype=float32)>, <tf.Variable 'dense_17/bias:0' shape=(1,) dtype=float32, numpy=array([1.3686304], dtype=float32)>]\n"
          ]
        },
        {
          "output_type": "display_data",
          "data": {
            "image/png": "[encoded data removed]",
            "text/plain": [
              "<Figure size 432x288 with 1 Axes>"
            ]
          },
          "metadata": {
            "needs_background": "light"
          }
        }
      ]
    },
    {
      "cell_type": "code",
      "metadata": {
        "id": "z49RDq700Sm0",
        "outputId": "313b63d4-6616-4e4e-ba38-6a741c900da6",
        "colab": {
          "base_uri": "https://localhost:8080/",
          "height": 464
        }
      },
      "source": [
        "import torch\n",
        "import torch.nn as nn\n",
        "import torch.nn.functional as F\n",
        " \n",
        "# 학습모델 정의\n",
        "class Linear_Regression(nn.Module):\n",
        "    def __init__(self):\n",
        "        super().__init__()\n",
        "        self.linear = nn.Linear(1, 1) # 단일 선형 회귀이므로 input_dim=1, output_dim=1.\n",
        " \n",
        "    def forward(self, x):\n",
        "        return self.linear(x)\n",
        " \n",
        "x = data[:,0].reshape(-1,1)\n",
        "y = data[:,1].reshape(-1,1)\n",
        " \n",
        "# 파이토치 포맷으로 변환\n",
        "in_x = torch.FloatTensor(x)\n",
        "in_y = torch.FloatTensor(y)\n",
        " \n",
        "# 회귀 모델 선언\n",
        "model = Linear_Regression()\n",
        "optimizer = torch.optim.SGD(model.parameters(), lr=0.01, momentum=0.01, nesterov=True) \n",
        "weight = []\n",
        " \n",
        "for i in range(1000+1):\n",
        "  pred = model(in_x)\n",
        "  loss = F.mse_loss(pred, in_y)\n",
        "  optimizer.zero_grad()\n",
        "  loss.backward()\n",
        "  optimizer.step()\n",
        " \n",
        "  # 100회 반복마다 손실값 및 w, b 출력\n",
        "  if i%100 == 0:\n",
        "    for param in model.parameters():\n",
        "      weight.append (param.data)\n",
        "    print('iteration:', i, 'loss=', loss, 'param=', weight[0], weight[1]) \n",
        " \n",
        "# 결과 출력\n",
        "x_coor = []\n",
        "y_coor = []\n",
        "a = weight[0]\n",
        "c = weight[1]\n",
        "iter=0\n",
        "for i in range(-30,30):\n",
        "  x_coor.append (i)\n",
        "  y_coor.append (a*x_coor[iter] + c)\n",
        "  iter+=1 \n",
        " \n",
        "plt.plot(x_coor, y_coor, 'r')\n",
        "plt.scatter(data[:,0], data[:,1])\n",
        "plt.show()"
      ],
      "execution_count": null,
      "outputs": [
        {
          "output_type": "stream",
          "name": "stdout",
          "text": [
            "iteration: 0 loss= tensor(1529.4794, grad_fn=<MseLossBackward0>) param= tensor([[8.0374]]) tensor([0.8928])\n",
            "iteration: 100 loss= tensor(66.9610, grad_fn=<MseLossBackward0>) param= tensor([[5.1682]]) tensor([1.3081])\n",
            "iteration: 200 loss= tensor(66.9573, grad_fn=<MseLossBackward0>) param= tensor([[5.1684]]) tensor([1.3607])\n",
            "iteration: 300 loss= tensor(66.9572, grad_fn=<MseLossBackward0>) param= tensor([[5.1684]]) tensor([1.3676])\n",
            "iteration: 400 loss= tensor(66.9572, grad_fn=<MseLossBackward0>) param= tensor([[5.1684]]) tensor([1.3685])\n",
            "iteration: 500 loss= tensor(66.9572, grad_fn=<MseLossBackward0>) param= tensor([[5.1684]]) tensor([1.3686])\n",
            "iteration: 600 loss= tensor(66.9572, grad_fn=<MseLossBackward0>) param= tensor([[5.1684]]) tensor([1.3686])\n",
            "iteration: 700 loss= tensor(66.9572, grad_fn=<MseLossBackward0>) param= tensor([[5.1684]]) tensor([1.3686])\n",
            "iteration: 800 loss= tensor(66.9572, grad_fn=<MseLossBackward0>) param= tensor([[5.1684]]) tensor([1.3686])\n",
            "iteration: 900 loss= tensor(66.9572, grad_fn=<MseLossBackward0>) param= tensor([[5.1684]]) tensor([1.3686])\n",
            "iteration: 1000 loss= tensor(66.9572, grad_fn=<MseLossBackward0>) param= tensor([[5.1684]]) tensor([1.3686])\n"
          ]
        },
        {
          "output_type": "display_data",
          "data": {
            "image/png": "[encoded data removed]",
            "text/plain": [
              "<Figure size 432x288 with 1 Axes>"
            ]
          },
          "metadata": {
            "needs_background": "light"
          }
        }
      ]
    },
    {
      "cell_type": "code",
      "metadata": {
        "id": "uqOOJ9w7Kh2E",
        "outputId": "972ccb3a-4708-46f6-c07d-cb5e9c633030",
        "colab": {
          "base_uri": "https://localhost:8080/"
        }
      },
      "source": [
        "import torch\n",
        "print(torch.__version__)"
      ],
      "execution_count": null,
      "outputs": [
        {
          "output_type": "stream",
          "name": "stdout",
          "text": [
            "1.10.0+cu111\n"
          ]
        }
      ]
    },
    {
      "cell_type": "code",
      "metadata": {
        "id": "Av_iJGXxqqwV",
        "outputId": "cf618fc9-607a-4410-e61c-14260320ba0c",
        "colab": {
          "base_uri": "https://localhost:8080/"
        }
      },
      "source": [
        "import tensorflow as tf\n",
        "print(tf.__version__)"
      ],
      "execution_count": null,
      "outputs": [
        {
          "output_type": "stream",
          "name": "stdout",
          "text": [
            "2.7.0\n"
          ]
        }
      ]
    },
    {
      "cell_type": "code",
      "metadata": {
        "id": "YLziFZzjLLKJ",
        "outputId": "2853b037-505e-4d57-94b0-546d1ba047a9",
        "colab": {
          "base_uri": "https://localhost:8080/"
        }
      },
      "source": [
        "from sklearn.linear_model import LinearRegression\n",
        " \n",
        "X = data[:,0].reshape(-1, 1)\n",
        "Y = data[:,1]\n",
        " \n",
        "model = LinearRegression().fit(X, Y)\n",
        "print('W=', model.coef_, 'b=',model.intercept_)"
      ],
      "execution_count": null,
      "outputs": [
        {
          "output_type": "stream",
          "text": [
            "W= [4.94578182] b= 2.027345863371662\n"
          ],
          "name": "stdout"
        }
      ]
    },
    {
      "cell_type": "code",
      "metadata": {
        "id": "YBlYdNtjMbzT"
      },
      "source": [
        ""
      ],
      "execution_count": null,
      "outputs": []
    }
  ]
}